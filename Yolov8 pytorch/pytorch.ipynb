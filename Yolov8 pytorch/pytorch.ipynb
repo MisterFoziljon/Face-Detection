{
 "cells": [
  {
   "cell_type": "code",
   "execution_count": null,
   "id": "29780875",
   "metadata": {},
   "outputs": [],
   "source": [
    "from ultralytics import YOLO\n",
    "import cv2\n",
    "import torch\n",
    "import onnx\n",
    "import tensorflow as tf\n",
    "from onnx_tf.backend import prepare"
   ]
  },
  {
   "cell_type": "code",
   "execution_count": null,
   "id": "2b121850",
   "metadata": {},
   "outputs": [],
   "source": [
    "model = YOLO(r\"models\\best.pt\")"
   ]
  },
  {
   "cell_type": "code",
   "execution_count": null,
   "id": "803c93c6",
   "metadata": {},
   "outputs": [],
   "source": [
    "device = torch.device('cuda:0' if torch.cuda.is_available() else 'cpu')\n",
    "device"
   ]
  },
  {
   "cell_type": "code",
   "execution_count": null,
   "id": "18c1a656",
   "metadata": {},
   "outputs": [],
   "source": [
    "video = cv2.VideoCapture(0)\n",
    "\n",
    "width = int(video.get(cv2.CAP_PROP_FRAME_WIDTH))\n",
    "height = int(video.get(cv2.CAP_PROP_FRAME_HEIGHT))\n",
    "\n",
    "while True:\n",
    "    \n",
    "    ret, frame = video.read()\n",
    "    \n",
    "    frame = cv2.resize(frame,(width,height),interpolation = cv2.INTER_AREA)\n",
    "        \n",
    "    results = model.predict(frame, conf=0.7, stream = True,device = device)\n",
    "    \n",
    "    for result in results:\n",
    "        boxes = result.boxes.cpu().numpy()  \n",
    "        for box in boxes:\n",
    "            r = box.xyxy[0].astype(int)\n",
    "            print(r)\n",
    "            cv2.rectangle(frame, r[:2], r[2:], (255, 255, 255), 2)\n",
    "\n",
    "    cv2.imshow(\"input\", frame)\n",
    "\n",
    "    if cv2.waitKey(1) & 0xFF == ord('q'):\n",
    "        break\n",
    "        \n",
    "video.release()\n",
    "cv2.destroyAllWindows()        "
   ]
  }
 ],
 "metadata": {
  "kernelspec": {
   "display_name": "Python 3 (ipykernel)",
   "language": "python",
   "name": "python3"
  },
  "language_info": {
   "codemirror_mode": {
    "name": "ipython",
    "version": 3
   },
   "file_extension": ".py",
   "mimetype": "text/x-python",
   "name": "python",
   "nbconvert_exporter": "python",
   "pygments_lexer": "ipython3",
   "version": "3.8.10"
  }
 },
 "nbformat": 4,
 "nbformat_minor": 5
}
