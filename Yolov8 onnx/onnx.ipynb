{
 "cells": [
  {
   "cell_type": "code",
   "execution_count": null,
   "id": "09b45dce",
   "metadata": {},
   "outputs": [],
   "source": [
    "import torch.onnx\n",
    "help(torch.onnx.export)"
   ]
  },
  {
   "cell_type": "code",
   "execution_count": null,
   "id": "993dcabc",
   "metadata": {},
   "outputs": [],
   "source": [
    "from ultralytics import YOLO\n",
    "\n",
    "model = YOLO(\"models/best.pt\")\n",
    "success = model.export(format=\"onnx\")"
   ]
  },
  {
   "cell_type": "code",
   "execution_count": null,
   "id": "6d463f45",
   "metadata": {},
   "outputs": [],
   "source": [
    "import onnx\n",
    "\n",
    "model = onnx.load(path+\".onnx\")\n",
    "onnx.checker.check_model(model)\n",
    "\n",
    "print(onnx.helper.printable_graph(model.graph))"
   ]
  },
  {
   "cell_type": "code",
   "execution_count": null,
   "id": "954daae2",
   "metadata": {},
   "outputs": [],
   "source": [
    "import onnxruntime\n",
    "\n",
    "opt_session = onnxruntime.SessionOptions()\n",
    "\"\"\"\n",
    "enable_mem_pattern: \n",
    "Ushbu parametr xotira namunasini optimallashtirish yoqilgan yoki yoqilmaganligini boshqaradi. \n",
    "Agar yoqilgan bo'lsa, onnxruntime modelning xotiradan foydalanish sxemasini tahlil qilishi va xotirani samaraliroq \n",
    "taqsimlashi mumkin, bu esa xotiradan foydalanishni kamaytirishi va ish faoliyatini yaxshilashi mumkin.\n",
    "Ushbu parametrni “False” ga o‘rnatish xotira namunasini optimallashtirishni o‘chirib qo‘yadi.\n",
    "\"\"\"\n",
    "opt_session.enable_mem_pattern = True\n",
    "\n",
    "\"\"\"\n",
    "enable_cpu_mem_arena: \n",
    "Bu parametr CPU xotirasi maydoni yoqilgan yoki yoqilmaganligini boshqaradi.\n",
    "Xotira arenasi - bu onnxruntime tomonidan xotirani yanada samarali boshqarish uchun ishlatiladigan texnikadir.\n",
    "Yoqilganda, onnxruntime xotirani qismlarga ajratadi va ularni qayta ishlatadi,bu esa unumdorlikni oshirishi mumkin. \n",
    "Ushbu parametrni \"False\" ga o'rnatish CPU xotira maydonini o'chirib qo'yadi.\n",
    "\"\"\"\n",
    "opt_session.enable_cpu_mem_arena = True\n",
    "\n",
    "\"\"\"\n",
    "graph_optimization_level: \n",
    "Bu parametr xulosa chiqarish vaqtida ONNX grafigida bajarilgan optimallashtirish darajasini nazorat qiladi. \n",
    "onnxruntime ORT_DISABLE_ALL (barcha optimallashtirishni o'chirib qo'yadi) dan \n",
    "ORT_ENABLE_EXTENDED (barcha mavjud optimallashtirishni yoqadi) gacha bo'lgan \n",
    "bir necha darajali optimallashtirishni ta'minlaydi. \n",
    "Siz taqdim etgan kodda ORT_DISABLE_ALL ishlatiladi, bu esa barcha optimallashtirishni o'chiradi.\n",
    "\"\"\"\n",
    "opt_session.graph_optimization_level = onnxruntime.GraphOptimizationLevel.ORT_ENABLE_EXTENDED"
   ]
  },
  {
   "cell_type": "code",
   "execution_count": null,
   "id": "65cd72a4",
   "metadata": {},
   "outputs": [],
   "source": [
    "model_path = \"models/best.onnx\"\n",
    "EP_list = ['CUDAExecutionProvider', 'CPUExecutionProvider']\n",
    "\n",
    "ort_session = onnxruntime.InferenceSession(model_path, providers=EP_list)"
   ]
  },
  {
   "cell_type": "code",
   "execution_count": null,
   "id": "b53b2388",
   "metadata": {},
   "outputs": [],
   "source": [
    "model_inputs = ort_session.get_inputs()\n",
    "input_names = [model_inputs[i].name for i in range(len(model_inputs))]\n",
    "input_shape = model_inputs[0].shape\n",
    "input_shape"
   ]
  },
  {
   "cell_type": "code",
   "execution_count": null,
   "id": "73b78ae6",
   "metadata": {},
   "outputs": [],
   "source": [
    "model_output = ort_session.get_outputs()\n",
    "output_names = [model_output[i].name for i in range(len(model_output))]\n",
    "output_names"
   ]
  },
  {
   "cell_type": "code",
   "execution_count": null,
   "id": "f7febb61",
   "metadata": {},
   "outputs": [],
   "source": [
    "def image_preprocessing(input_shape,image):\n",
    "    height, width = input_shape[2:]\n",
    "    image = cv2.cvtColor(image, cv2.COLOR_BGR2RGB)\n",
    "    image = cv2.resize(image,(width,height),interpolation = cv2.INTER_AREA)\n",
    "    image = image / 255.0\n",
    "    image = image.transpose(2,0,1)\n",
    "    input_tensor = image[np.newaxis, :, :, :].astype(np.float32)\n",
    "    \n",
    "    return input_tensor,height,width"
   ]
  },
  {
   "cell_type": "code",
   "execution_count": null,
   "id": "a5d71092",
   "metadata": {},
   "outputs": [],
   "source": [
    "def compute_iou(box, boxes):\n",
    "    \n",
    "    xmin = np.maximum(box[0], boxes[:, 0])\n",
    "    ymin = np.maximum(box[1], boxes[:, 1])\n",
    "    xmax = np.minimum(box[2], boxes[:, 2])\n",
    "    ymax = np.minimum(box[3], boxes[:, 3])\n",
    "\n",
    "    intersection_area = np.maximum(2, xmax - xmin) * np.maximum(2, ymax - ymin)\n",
    "\n",
    "    box_area = (box[2] - box[0]) * (box[3] - box[1])\n",
    "    boxes_area = (boxes[:, 2] - boxes[:, 0]) * (boxes[:, 3] - boxes[:, 1])\n",
    "    union_area = box_area + boxes_area - intersection_area\n",
    "\n",
    "    iou = intersection_area / union_area\n",
    "\n",
    "    return iou"
   ]
  },
  {
   "cell_type": "code",
   "execution_count": null,
   "id": "1be04c01",
   "metadata": {},
   "outputs": [],
   "source": [
    "def nms(boxes, scores, iou_threshold):\n",
    "    sorted_indices = np.argsort(scores)[::-1]\n",
    "\n",
    "    keep_boxes = []\n",
    "    while sorted_indices.size > 0:\n",
    "        \n",
    "        box_id = sorted_indices[0]\n",
    "        keep_boxes.append(box_id)\n",
    "\n",
    "        ious = compute_iou(boxes[box_id, :], boxes[sorted_indices[1:], :])\n",
    "\n",
    "        keep_indices = np.where(ious < iou_threshold)[0]\n",
    "\n",
    "        sorted_indices = sorted_indices[keep_indices + 1]\n",
    "\n",
    "    return keep_boxes"
   ]
  },
  {
   "cell_type": "code",
   "execution_count": null,
   "id": "2c3bad0f",
   "metadata": {},
   "outputs": [],
   "source": [
    "def xywh2xyxy(x):\n",
    "    y = np.copy(x)\n",
    "    y[..., 0] = x[..., 0] - x[..., 2] / 2\n",
    "    y[..., 1] = x[..., 1] - x[..., 3] / 2\n",
    "    y[..., 2] = x[..., 0] + x[..., 2] / 2\n",
    "    y[..., 3] = x[..., 1] + x[..., 3] / 2\n",
    "    return y"
   ]
  },
  {
   "cell_type": "code",
   "execution_count": null,
   "id": "24bf3a60",
   "metadata": {},
   "outputs": [],
   "source": [
    "CLASSES=[\"Face\"]\n",
    "conf_thresold = 0.6"
   ]
  },
  {
   "cell_type": "code",
   "execution_count": null,
   "id": "ff7b75f3",
   "metadata": {},
   "outputs": [],
   "source": [
    "import cv2\n",
    "import numpy as np\n",
    "import os\n",
    "\n",
    "video = cv2.VideoCapture(0)\n",
    "width = int(video.get(cv2.CAP_PROP_FRAME_WIDTH))\n",
    "height = int(video.get(cv2.CAP_PROP_FRAME_HEIGHT))\n",
    "\n",
    "while True:\n",
    "    \n",
    "    ret, frame = video.read()\n",
    "    \n",
    "    input_tensor, h, w = image_preprocessing(input_shape,frame)\n",
    "    output = ort_session.run(output_names, {input_names[0]: input_tensor})[0]\n",
    "    \n",
    "    predictions = np.squeeze(output).T\n",
    "    scores = np.max(predictions[:, 4:], axis=1)\n",
    "    predictions = predictions[scores > conf_thresold, :]\n",
    "    scores = scores[scores > conf_thresold]\n",
    "    \n",
    "    class_ids = np.argmax(predictions[:, 4:], axis=1)\n",
    "    \n",
    "    boxes = predictions[:, :4]\n",
    "    input_shape = np.array([w, h, w, h])\n",
    "    boxes = np.divide(boxes, input_shape, dtype=np.float32)\n",
    "    boxes *= np.array([width, height, width, height])\n",
    "    boxes = boxes.astype(np.int32)\n",
    "    \n",
    "    indices = nms(boxes, scores, 0.3)\n",
    "    \n",
    "    image_draw = frame.copy()\n",
    "    \n",
    "    for (bbox, score, label) in zip(xywh2xyxy(boxes[indices]), scores[indices], class_ids[indices]):\n",
    "\n",
    "        bbox = bbox.round().astype(np.int32).tolist()\n",
    "        cls_id = int(label)\n",
    "        cls = CLASSES[cls_id]\n",
    "        color = (0,255,0)\n",
    "        cv2.rectangle(image_draw, tuple(bbox[:2]), tuple(bbox[2:]), color, 2)\n",
    "\n",
    "    cv2.imshow(\"input\", image_draw)\n",
    "    \n",
    "    if cv2.waitKey(1) & 0xFF == ord('q'):\n",
    "        break\n",
    "        \n",
    "video.release()\n",
    "cv2.destroyAllWindows()        "
   ]
  }
 ],
 "metadata": {
  "kernelspec": {
   "display_name": "Python 3 (ipykernel)",
   "language": "python",
   "name": "python3"
  },
  "language_info": {
   "codemirror_mode": {
    "name": "ipython",
    "version": 3
   },
   "file_extension": ".py",
   "mimetype": "text/x-python",
   "name": "python",
   "nbconvert_exporter": "python",
   "pygments_lexer": "ipython3",
   "version": "3.8.10"
  }
 },
 "nbformat": 4,
 "nbformat_minor": 5
}
